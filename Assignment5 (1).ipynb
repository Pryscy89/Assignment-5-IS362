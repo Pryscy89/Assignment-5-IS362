{
  "metadata": {
    "kernelspec": {
      "name": "python",
      "display_name": "Python (Pyodide)",
      "language": "python"
    },
    "language_info": {
      "codemirror_mode": {
        "name": "python",
        "version": 3
      },
      "file_extension": ".py",
      "mimetype": "text/x-python",
      "name": "python",
      "nbconvert_exporter": "python",
      "pygments_lexer": "ipython3",
      "version": "3.8"
    }
  },
  "nbformat_minor": 4,
  "nbformat": 4,
  "cells": [
    {
      "cell_type": "code",
      "source": "import pandas as pd\nfrom sklearn import preprocessing\n",
      "metadata": {
        "trusted": true
      },
      "outputs": [],
      "execution_count": 30
    },
    {
      "cell_type": "code",
      "source": "# Load the data\ndf = pd.read_csv('movie_ratings.csv', index_col='User')",
      "metadata": {
        "trusted": true
      },
      "outputs": [],
      "execution_count": 31
    },
    {
      "cell_type": "code",
      "source": "# Show the average ratings for each user and each movie\nprint(df.mean())",
      "metadata": {
        "trusted": true
      },
      "outputs": [
        {
          "name": "stdout",
          "text": "American Sniper        3.0\nEdge of tomorrow       3.0\nGroundhog Day          3.4\nJurassic World         3.0\nLost in translation    3.0\nLucy                   3.6\ndtype: float64\n",
          "output_type": "stream"
        }
      ],
      "execution_count": 32
    },
    {
      "cell_type": "code",
      "source": "# Normalize the ratings\nx = df.values\nmin_max_scaler = preprocessing.MinMaxScaler()\nx_scaled = min_max_scaler.fit_transform(x)\ndf_normalized = pd.DataFrame(x_scaled, columns=df.columns, index=df.index)\n",
      "metadata": {
        "trusted": true
      },
      "outputs": [],
      "execution_count": 33
    },
    {
      "cell_type": "code",
      "source": "# Show the average normalized ratings for each user and each movie\nprint(df_normalized.mean())\n",
      "metadata": {
        "trusted": true
      },
      "outputs": [
        {
          "name": "stdout",
          "text": "American Sniper        0.500000\nEdge of tomorrow       0.500000\nGroundhog Day          0.466667\nJurassic World         0.500000\nLost in translation    0.500000\nLucy                   0.533333\ndtype: float64\n",
          "output_type": "stream"
        }
      ],
      "execution_count": 34
    },
    {
      "cell_type": "code",
      "source": "# Standardize the ratings\nscaler = preprocessing.StandardScaler()\nx_standardized = scaler.fit_transform(x)\ndf_standardized = pd.DataFrame(x_standardized, columns=df.columns, index=df.index)\n",
      "metadata": {
        "trusted": true
      },
      "outputs": [],
      "execution_count": 36
    },
    {
      "cell_type": "code",
      "source": "# Show the average standardized ratings for each user and each movie\nuser_avg_standardized = df_standardized.mean(axis=1)\nmovie_avg_standardized = df_standardized.mean()",
      "metadata": {
        "trusted": true
      },
      "outputs": [],
      "execution_count": 37
    },
    {
      "cell_type": "code",
      "source": "",
      "metadata": {
        "trusted": true
      },
      "outputs": [],
      "execution_count": null
    },
    {
      "cell_type": "code",
      "source": "",
      "metadata": {
        "trusted": true
      },
      "outputs": [],
      "execution_count": null
    },
    {
      "cell_type": "code",
      "source": "",
      "metadata": {
        "trusted": true
      },
      "outputs": [],
      "execution_count": null
    }
  ]
}