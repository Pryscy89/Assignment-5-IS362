{
  "metadata": {
    "kernelspec": {
      "name": "python",
      "display_name": "Python (Pyodide)",
      "language": "python"
    },
    "language_info": {
      "codemirror_mode": {
        "name": "python",
        "version": 3
      },
      "file_extension": ".py",
      "mimetype": "text/x-python",
      "name": "python",
      "nbconvert_exporter": "python",
      "pygments_lexer": "ipython3",
      "version": "3.8"
    }
  },
  "nbformat_minor": 4,
  "nbformat": 4,
  "cells": [
    {
      "cell_type": "markdown",
      "source": "1. What is the northernmost airport in the United States?\nA: The northernmost airport is Dillant Hopkins Airport.",
      "metadata": {}
    },
    {
      "cell_type": "code",
      "source": "import pandas as pd\nairports = pd.read_csv(\"airports.csv\")\nairports.head()\nairports.sort_values(\"lat\", ascending=False).head(8)",
      "metadata": {
        "trusted": true
      },
      "outputs": [
        {
          "execution_count": 1,
          "output_type": "execute_result",
          "data": {
            "text/plain": "      faa                                        name        lat         lon  \\\n417   EEN                     Dillant Hopkins Airport  72.270833   42.898333   \n230   BRW                  Wiley Post Will Rogers Mem  71.285446 -156.766003   \n110   AIN                          Wainwright Airport  70.638056 -159.994722   \n708   K03                               Wainwright As  70.613378 -159.860350   \n152   ATK  Atqasuk Edward Burnell Sr Memorial Airport  70.467300 -157.436000   \n1363  UUK                        Ugnu-Kuparuk Airport  70.330833 -149.597500   \n982   NUI                             Nuiqsut Airport  70.210000 -151.005556   \n1197  SCC                                   Deadhorse  70.194750 -148.465167   \n\n      alt  tz dst              tzone  \n417   149  -5   A                NaN  \n230    44  -9   A  America/Anchorage  \n110    41  -9   A  America/Anchorage  \n708    35  -9   A  America/Anchorage  \n152    96  -9   A  America/Anchorage  \n1363   67  -9   A  America/Anchorage  \n982    38  -9   A  America/Anchorage  \n1197   64  -9   A  America/Anchorage  ",
            "text/html": "<div>\n<style scoped>\n    .dataframe tbody tr th:only-of-type {\n        vertical-align: middle;\n    }\n\n    .dataframe tbody tr th {\n        vertical-align: top;\n    }\n\n    .dataframe thead th {\n        text-align: right;\n    }\n</style>\n<table border=\"1\" class=\"dataframe\">\n  <thead>\n    <tr style=\"text-align: right;\">\n      <th></th>\n      <th>faa</th>\n      <th>name</th>\n      <th>lat</th>\n      <th>lon</th>\n      <th>alt</th>\n      <th>tz</th>\n      <th>dst</th>\n      <th>tzone</th>\n    </tr>\n  </thead>\n  <tbody>\n    <tr>\n      <th>417</th>\n      <td>EEN</td>\n      <td>Dillant Hopkins Airport</td>\n      <td>72.270833</td>\n      <td>42.898333</td>\n      <td>149</td>\n      <td>-5</td>\n      <td>A</td>\n      <td>NaN</td>\n    </tr>\n    <tr>\n      <th>230</th>\n      <td>BRW</td>\n      <td>Wiley Post Will Rogers Mem</td>\n      <td>71.285446</td>\n      <td>-156.766003</td>\n      <td>44</td>\n      <td>-9</td>\n      <td>A</td>\n      <td>America/Anchorage</td>\n    </tr>\n    <tr>\n      <th>110</th>\n      <td>AIN</td>\n      <td>Wainwright Airport</td>\n      <td>70.638056</td>\n      <td>-159.994722</td>\n      <td>41</td>\n      <td>-9</td>\n      <td>A</td>\n      <td>America/Anchorage</td>\n    </tr>\n    <tr>\n      <th>708</th>\n      <td>K03</td>\n      <td>Wainwright As</td>\n      <td>70.613378</td>\n      <td>-159.860350</td>\n      <td>35</td>\n      <td>-9</td>\n      <td>A</td>\n      <td>America/Anchorage</td>\n    </tr>\n    <tr>\n      <th>152</th>\n      <td>ATK</td>\n      <td>Atqasuk Edward Burnell Sr Memorial Airport</td>\n      <td>70.467300</td>\n      <td>-157.436000</td>\n      <td>96</td>\n      <td>-9</td>\n      <td>A</td>\n      <td>America/Anchorage</td>\n    </tr>\n    <tr>\n      <th>1363</th>\n      <td>UUK</td>\n      <td>Ugnu-Kuparuk Airport</td>\n      <td>70.330833</td>\n      <td>-149.597500</td>\n      <td>67</td>\n      <td>-9</td>\n      <td>A</td>\n      <td>America/Anchorage</td>\n    </tr>\n    <tr>\n      <th>982</th>\n      <td>NUI</td>\n      <td>Nuiqsut Airport</td>\n      <td>70.210000</td>\n      <td>-151.005556</td>\n      <td>38</td>\n      <td>-9</td>\n      <td>A</td>\n      <td>America/Anchorage</td>\n    </tr>\n    <tr>\n      <th>1197</th>\n      <td>SCC</td>\n      <td>Deadhorse</td>\n      <td>70.194750</td>\n      <td>-148.465167</td>\n      <td>64</td>\n      <td>-9</td>\n      <td>A</td>\n      <td>America/Anchorage</td>\n    </tr>\n  </tbody>\n</table>\n</div>"
          },
          "metadata": {}
        }
      ],
      "execution_count": 1
    },
    {
      "cell_type": "markdown",
      "source": "2. What is the easternmost airport in the United States?\nA: The easternmost airport is Northern Aroostook Regional Airport, faa name WFK.",
      "metadata": {}
    },
    {
      "cell_type": "code",
      "source": "df = pd.read_csv(\"airports.csv\")\nnortheast_airports = df[(df['lat'] > 44) & (df['lat'] <= 50) & (df['lon'] >= -75) & (df['lon'] <= -65)]\nnortheast_airports.sort_values('lat', ascending=False)",
      "metadata": {
        "trusted": true
      },
      "outputs": [
        {
          "execution_count": 2,
          "output_type": "execute_result",
          "data": {
            "text/plain": "      faa                                 name        lat        lon   alt  \\\n1398  WFK  Northern Aroostook Regional Airport  47.285556 -68.312778   988   \n259   CAR                         Caribou Muni  46.871500 -68.017917   626   \n1101  PQI  Northern Maine Rgnl At Presque Isle  46.688958 -68.044797   534   \n624   HUL                         Houlton Intl  46.123083 -67.792056   489   \n894   MLT                     Millinocket Muni  45.647836 -68.685561   408   \n923   MSS            Massena Intl Richards Fld  44.935833 -74.845547   215   \n444   EPM           Eastport Municipal Airport  44.910111 -67.012694    45   \n191   BGR                          Bangor Intl  44.807444 -68.828139   192   \n1053  PBG                     Plattsburgh Intl  44.650944 -73.468139   234   \n933   MVL      Morrisville Stowe State Airport  44.535000 -72.614000   732   \n236   BTV                      Burlington Intl  44.471861 -73.153278   335   \n192   BHB          Hancock County - Bar Harbor  44.449769 -68.361565    83   \n1240  SLK          Adirondack Regional Airport  44.385300 -74.206200  1663   \n157   AUG                        Augusta State  44.320647 -69.797317   352   \n799   LKP                  Lake Placid Airport  44.264444 -73.961944  1747   \n910   MPV                 Edward F Knapp State  44.203503 -72.562328  1165   \n856   ME5                        Banks Airport  44.165389 -68.428167   100   \n1155  RKD         Knox County Regional Airport  44.060111 -69.099230    56   \n781   LEW                       Lewiston Maine  44.048473 -70.283507   288   \n\n      tz dst             tzone  \n1398  -5   A  America/New_York  \n259   -5   A  America/New_York  \n1101  -5   A  America/New_York  \n624   -5   A  America/New_York  \n894   -5   A  America/New_York  \n923   -5   A  America/New_York  \n444   -5   A  America/New_York  \n191   -5   A  America/New_York  \n1053  -5   A  America/New_York  \n933   -5   A  America/New_York  \n236   -5   A  America/New_York  \n192   -5   A  America/New_York  \n1240  -5   A  America/New_York  \n157   -5   A  America/New_York  \n799   -5   A  America/New_York  \n910   -5   A  America/New_York  \n856   -5   A  America/New_York  \n1155  -5   A  America/New_York  \n781   -5   A  America/New_York  ",
            "text/html": "<div>\n<style scoped>\n    .dataframe tbody tr th:only-of-type {\n        vertical-align: middle;\n    }\n\n    .dataframe tbody tr th {\n        vertical-align: top;\n    }\n\n    .dataframe thead th {\n        text-align: right;\n    }\n</style>\n<table border=\"1\" class=\"dataframe\">\n  <thead>\n    <tr style=\"text-align: right;\">\n      <th></th>\n      <th>faa</th>\n      <th>name</th>\n      <th>lat</th>\n      <th>lon</th>\n      <th>alt</th>\n      <th>tz</th>\n      <th>dst</th>\n      <th>tzone</th>\n    </tr>\n  </thead>\n  <tbody>\n    <tr>\n      <th>1398</th>\n      <td>WFK</td>\n      <td>Northern Aroostook Regional Airport</td>\n      <td>47.285556</td>\n      <td>-68.312778</td>\n      <td>988</td>\n      <td>-5</td>\n      <td>A</td>\n      <td>America/New_York</td>\n    </tr>\n    <tr>\n      <th>259</th>\n      <td>CAR</td>\n      <td>Caribou Muni</td>\n      <td>46.871500</td>\n      <td>-68.017917</td>\n      <td>626</td>\n      <td>-5</td>\n      <td>A</td>\n      <td>America/New_York</td>\n    </tr>\n    <tr>\n      <th>1101</th>\n      <td>PQI</td>\n      <td>Northern Maine Rgnl At Presque Isle</td>\n      <td>46.688958</td>\n      <td>-68.044797</td>\n      <td>534</td>\n      <td>-5</td>\n      <td>A</td>\n      <td>America/New_York</td>\n    </tr>\n    <tr>\n      <th>624</th>\n      <td>HUL</td>\n      <td>Houlton Intl</td>\n      <td>46.123083</td>\n      <td>-67.792056</td>\n      <td>489</td>\n      <td>-5</td>\n      <td>A</td>\n      <td>America/New_York</td>\n    </tr>\n    <tr>\n      <th>894</th>\n      <td>MLT</td>\n      <td>Millinocket Muni</td>\n      <td>45.647836</td>\n      <td>-68.685561</td>\n      <td>408</td>\n      <td>-5</td>\n      <td>A</td>\n      <td>America/New_York</td>\n    </tr>\n    <tr>\n      <th>923</th>\n      <td>MSS</td>\n      <td>Massena Intl Richards Fld</td>\n      <td>44.935833</td>\n      <td>-74.845547</td>\n      <td>215</td>\n      <td>-5</td>\n      <td>A</td>\n      <td>America/New_York</td>\n    </tr>\n    <tr>\n      <th>444</th>\n      <td>EPM</td>\n      <td>Eastport Municipal Airport</td>\n      <td>44.910111</td>\n      <td>-67.012694</td>\n      <td>45</td>\n      <td>-5</td>\n      <td>A</td>\n      <td>America/New_York</td>\n    </tr>\n    <tr>\n      <th>191</th>\n      <td>BGR</td>\n      <td>Bangor Intl</td>\n      <td>44.807444</td>\n      <td>-68.828139</td>\n      <td>192</td>\n      <td>-5</td>\n      <td>A</td>\n      <td>America/New_York</td>\n    </tr>\n    <tr>\n      <th>1053</th>\n      <td>PBG</td>\n      <td>Plattsburgh Intl</td>\n      <td>44.650944</td>\n      <td>-73.468139</td>\n      <td>234</td>\n      <td>-5</td>\n      <td>A</td>\n      <td>America/New_York</td>\n    </tr>\n    <tr>\n      <th>933</th>\n      <td>MVL</td>\n      <td>Morrisville Stowe State Airport</td>\n      <td>44.535000</td>\n      <td>-72.614000</td>\n      <td>732</td>\n      <td>-5</td>\n      <td>A</td>\n      <td>America/New_York</td>\n    </tr>\n    <tr>\n      <th>236</th>\n      <td>BTV</td>\n      <td>Burlington Intl</td>\n      <td>44.471861</td>\n      <td>-73.153278</td>\n      <td>335</td>\n      <td>-5</td>\n      <td>A</td>\n      <td>America/New_York</td>\n    </tr>\n    <tr>\n      <th>192</th>\n      <td>BHB</td>\n      <td>Hancock County - Bar Harbor</td>\n      <td>44.449769</td>\n      <td>-68.361565</td>\n      <td>83</td>\n      <td>-5</td>\n      <td>A</td>\n      <td>America/New_York</td>\n    </tr>\n    <tr>\n      <th>1240</th>\n      <td>SLK</td>\n      <td>Adirondack Regional Airport</td>\n      <td>44.385300</td>\n      <td>-74.206200</td>\n      <td>1663</td>\n      <td>-5</td>\n      <td>A</td>\n      <td>America/New_York</td>\n    </tr>\n    <tr>\n      <th>157</th>\n      <td>AUG</td>\n      <td>Augusta State</td>\n      <td>44.320647</td>\n      <td>-69.797317</td>\n      <td>352</td>\n      <td>-5</td>\n      <td>A</td>\n      <td>America/New_York</td>\n    </tr>\n    <tr>\n      <th>799</th>\n      <td>LKP</td>\n      <td>Lake Placid Airport</td>\n      <td>44.264444</td>\n      <td>-73.961944</td>\n      <td>1747</td>\n      <td>-5</td>\n      <td>A</td>\n      <td>America/New_York</td>\n    </tr>\n    <tr>\n      <th>910</th>\n      <td>MPV</td>\n      <td>Edward F Knapp State</td>\n      <td>44.203503</td>\n      <td>-72.562328</td>\n      <td>1165</td>\n      <td>-5</td>\n      <td>A</td>\n      <td>America/New_York</td>\n    </tr>\n    <tr>\n      <th>856</th>\n      <td>ME5</td>\n      <td>Banks Airport</td>\n      <td>44.165389</td>\n      <td>-68.428167</td>\n      <td>100</td>\n      <td>-5</td>\n      <td>A</td>\n      <td>America/New_York</td>\n    </tr>\n    <tr>\n      <th>1155</th>\n      <td>RKD</td>\n      <td>Knox County Regional Airport</td>\n      <td>44.060111</td>\n      <td>-69.099230</td>\n      <td>56</td>\n      <td>-5</td>\n      <td>A</td>\n      <td>America/New_York</td>\n    </tr>\n    <tr>\n      <th>781</th>\n      <td>LEW</td>\n      <td>Lewiston Maine</td>\n      <td>44.048473</td>\n      <td>-70.283507</td>\n      <td>288</td>\n      <td>-5</td>\n      <td>A</td>\n      <td>America/New_York</td>\n    </tr>\n  </tbody>\n</table>\n</div>"
          },
          "metadata": {}
        }
      ],
      "execution_count": 2
    },
    {
      "cell_type": "markdown",
      "source": "3. On February 12th, 2013, which New York area airport had the windiest weather?\nA: The data set above shows that the windiest day at a New York City airport on February 12th, 2013 occurred at EWR ",
      "metadata": {}
    },
    {
      "cell_type": "code",
      "source": "# Performing a test of the data by viewing the first five rows.\nspeed = pd.read_csv(\"weather.csv\")\nspeed.head()",
      "metadata": {
        "trusted": true
      },
      "outputs": [
        {
          "execution_count": 3,
          "output_type": "execute_result",
          "data": {
            "text/plain": "  origin  year  month  day  hour   temp   dewp  humid  wind_dir  wind_speed  \\\n0    EWR  2013      1    1     1  39.02  26.06  59.37     270.0    10.35702   \n1    EWR  2013      1    1     2  39.02  26.96  61.63     250.0     8.05546   \n2    EWR  2013      1    1     3  39.02  28.04  64.43     240.0    11.50780   \n3    EWR  2013      1    1     4  39.92  28.04  62.21     250.0    12.65858   \n4    EWR  2013      1    1     5  39.02  28.04  64.43     260.0    12.65858   \n\n   wind_gust  precip  pressure  visib             time_hour  \n0        NaN     0.0    1012.0   10.0  2013-01-01T06:00:00Z  \n1        NaN     0.0    1012.3   10.0  2013-01-01T07:00:00Z  \n2        NaN     0.0    1012.5   10.0  2013-01-01T08:00:00Z  \n3        NaN     0.0    1012.2   10.0  2013-01-01T09:00:00Z  \n4        NaN     0.0    1011.9   10.0  2013-01-01T10:00:00Z  ",
            "text/html": "<div>\n<style scoped>\n    .dataframe tbody tr th:only-of-type {\n        vertical-align: middle;\n    }\n\n    .dataframe tbody tr th {\n        vertical-align: top;\n    }\n\n    .dataframe thead th {\n        text-align: right;\n    }\n</style>\n<table border=\"1\" class=\"dataframe\">\n  <thead>\n    <tr style=\"text-align: right;\">\n      <th></th>\n      <th>origin</th>\n      <th>year</th>\n      <th>month</th>\n      <th>day</th>\n      <th>hour</th>\n      <th>temp</th>\n      <th>dewp</th>\n      <th>humid</th>\n      <th>wind_dir</th>\n      <th>wind_speed</th>\n      <th>wind_gust</th>\n      <th>precip</th>\n      <th>pressure</th>\n      <th>visib</th>\n      <th>time_hour</th>\n    </tr>\n  </thead>\n  <tbody>\n    <tr>\n      <th>0</th>\n      <td>EWR</td>\n      <td>2013</td>\n      <td>1</td>\n      <td>1</td>\n      <td>1</td>\n      <td>39.02</td>\n      <td>26.06</td>\n      <td>59.37</td>\n      <td>270.0</td>\n      <td>10.35702</td>\n      <td>NaN</td>\n      <td>0.0</td>\n      <td>1012.0</td>\n      <td>10.0</td>\n      <td>2013-01-01T06:00:00Z</td>\n    </tr>\n    <tr>\n      <th>1</th>\n      <td>EWR</td>\n      <td>2013</td>\n      <td>1</td>\n      <td>1</td>\n      <td>2</td>\n      <td>39.02</td>\n      <td>26.96</td>\n      <td>61.63</td>\n      <td>250.0</td>\n      <td>8.05546</td>\n      <td>NaN</td>\n      <td>0.0</td>\n      <td>1012.3</td>\n      <td>10.0</td>\n      <td>2013-01-01T07:00:00Z</td>\n    </tr>\n    <tr>\n      <th>2</th>\n      <td>EWR</td>\n      <td>2013</td>\n      <td>1</td>\n      <td>1</td>\n      <td>3</td>\n      <td>39.02</td>\n      <td>28.04</td>\n      <td>64.43</td>\n      <td>240.0</td>\n      <td>11.50780</td>\n      <td>NaN</td>\n      <td>0.0</td>\n      <td>1012.5</td>\n      <td>10.0</td>\n      <td>2013-01-01T08:00:00Z</td>\n    </tr>\n    <tr>\n      <th>3</th>\n      <td>EWR</td>\n      <td>2013</td>\n      <td>1</td>\n      <td>1</td>\n      <td>4</td>\n      <td>39.92</td>\n      <td>28.04</td>\n      <td>62.21</td>\n      <td>250.0</td>\n      <td>12.65858</td>\n      <td>NaN</td>\n      <td>0.0</td>\n      <td>1012.2</td>\n      <td>10.0</td>\n      <td>2013-01-01T09:00:00Z</td>\n    </tr>\n    <tr>\n      <th>4</th>\n      <td>EWR</td>\n      <td>2013</td>\n      <td>1</td>\n      <td>1</td>\n      <td>5</td>\n      <td>39.02</td>\n      <td>28.04</td>\n      <td>64.43</td>\n      <td>260.0</td>\n      <td>12.65858</td>\n      <td>NaN</td>\n      <td>0.0</td>\n      <td>1011.9</td>\n      <td>10.0</td>\n      <td>2013-01-01T10:00:00Z</td>\n    </tr>\n  </tbody>\n</table>\n</div>"
          },
          "metadata": {}
        }
      ],
      "execution_count": 3
    },
    {
      "cell_type": "code",
      "source": "# Load the weather data\nweather_data = pd.read_csv('weather.csv')\n# Filter the data for February 12th, 2013\nfeb_12_weather = weather_data[weather_data['time_hour'].str.contains('2013-02-12')]\n# Sort the data by wind_speed in descending order\nsorted_weather = feb_12_weather.sort_values('wind_speed', ascending=False)\n# Get the airport with the highest wind_speed on February 12th, 2013\nwindiest_airport = sorted_weather.iloc[0]['origin']\n# Print the windiest airport\nprint(windiest_airport)",
      "metadata": {
        "trusted": true
      },
      "outputs": [
        {
          "name": "stdout",
          "text": "EWR\n",
          "output_type": "stream"
        }
      ],
      "execution_count": 6
    },
    {
      "cell_type": "code",
      "source": "",
      "metadata": {
        "trusted": true
      },
      "outputs": [],
      "execution_count": null
    }
  ]
}